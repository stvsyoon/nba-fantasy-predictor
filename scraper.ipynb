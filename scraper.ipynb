{
 "cells": [
  {
   "cell_type": "code",
   "execution_count": 2,
   "metadata": {},
   "outputs": [],
   "source": [
    "from urllib.request import urlopen\n",
    "import pandas as pd\n",
    "from bs4 import BeautifulSoup"
   ]
  },
  {
   "cell_type": "code",
   "execution_count": 46,
   "metadata": {},
   "outputs": [
    {
     "name": "stdout",
     "output_type": "stream",
     "text": [
      "1320\n"
     ]
    }
   ],
   "source": [
    "# gather url for every boxscore for each season and then get boxscores using the urls\n",
    "\n",
    "years = ['2023']\n",
    "boxscore_urls = []\n",
    "\n",
    "for year in years:\n",
    "    url = f'https://www.basketball-reference.com/leagues/NBA_{year}_games.html'\n",
    "    html = urlopen(url)\n",
    "    soup = BeautifulSoup(html,features='lxml')\n",
    "\n",
    "    for div in soup.findAll('div', attrs={'class':'filter'}):\n",
    "        months = list(filter(None,div.text.split('\\n')))\n",
    "\n",
    "    for month in months:\n",
    "        m_url = f'https://www.basketball-reference.com/leagues/NBA_{year}_games-{month.lower()}.html'\n",
    "        m_html = urlopen(m_url)\n",
    "        m_soup = BeautifulSoup(m_html,features='lxml')\n",
    "        for td in m_soup.findAll('td', attrs={'data-stat':'box_score_text'}):\n",
    "            boxscore_urls.append(td.a['href'])\n",
    "\n",
    "print(len(boxscore_urls))"
   ]
  }
 ],
 "metadata": {
  "kernelspec": {
   "display_name": "Python 3",
   "language": "python",
   "name": "python3"
  },
  "language_info": {
   "codemirror_mode": {
    "name": "ipython",
    "version": 3
   },
   "file_extension": ".py",
   "mimetype": "text/x-python",
   "name": "python",
   "nbconvert_exporter": "python",
   "pygments_lexer": "ipython3",
   "version": "3.7.9"
  },
  "orig_nbformat": 4
 },
 "nbformat": 4,
 "nbformat_minor": 2
}
