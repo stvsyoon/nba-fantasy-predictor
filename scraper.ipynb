{
 "cells": [
  {
   "cell_type": "code",
   "execution_count": 21,
   "metadata": {},
   "outputs": [],
   "source": [
    "from urllib.request import urlopen\n",
    "import pandas as pd\n",
    "from nba_api.stats.endpoints import scoreboard"
   ]
  },
  {
   "cell_type": "code",
   "execution_count": 85,
   "metadata": {},
   "outputs": [],
   "source": [
    "df = pd.DataFrame()\n",
    "# 2022 regular season games\n",
    "dates_22_23 = pd.date_range('2022-10-18','2023-04-09',freq='d')\n",
    "# drop all-star game\n",
    "dates_22_23 = dates_22_23.drop('2023-02-19')\n",
    "\n",
    "for date in dates_22_23:\n",
    "    game = scoreboard.Scoreboard(0,date)\n",
    "    game.get_available_data()\n",
    "    df = pd.concat([df,game.line_score.get_data_frame()], ignore_index=True)\n",
    "\n",
    "df = df.drop(['PTS_OT5','PTS_OT6','PTS_OT7','PTS_OT8','PTS_OT9','PTS_OT10'], axis=1) # highest OT in 2000s is 4OT so drop the rest"
   ]
  },
  {
   "cell_type": "code",
   "execution_count": 87,
   "metadata": {},
   "outputs": [
    {
     "name": "stdout",
     "output_type": "stream",
     "text": [
      "Index(['GAME_DATE_EST', 'GAME_SEQUENCE', 'GAME_ID', 'TEAM_ID',\n",
      "       'TEAM_ABBREVIATION', 'TEAM_CITY_NAME', 'TEAM_WINS_LOSSES', 'PTS_QTR1',\n",
      "       'PTS_QTR2', 'PTS_QTR3', 'PTS_QTR4', 'PTS_OT1', 'PTS_OT2', 'PTS_OT3',\n",
      "       'PTS_OT4', 'PTS', 'FG_PCT', 'FT_PCT', 'FG3_PCT', 'AST', 'REB', 'TOV'],\n",
      "      dtype='object')\n"
     ]
    }
   ],
   "source": [
    "print(df.columns)"
   ]
  }
 ],
 "metadata": {
  "kernelspec": {
   "display_name": "Python 3",
   "language": "python",
   "name": "python3"
  },
  "language_info": {
   "codemirror_mode": {
    "name": "ipython",
    "version": 3
   },
   "file_extension": ".py",
   "mimetype": "text/x-python",
   "name": "python",
   "nbconvert_exporter": "python",
   "pygments_lexer": "ipython3",
   "version": "3.11.3"
  },
  "orig_nbformat": 4
 },
 "nbformat": 4,
 "nbformat_minor": 2
}
